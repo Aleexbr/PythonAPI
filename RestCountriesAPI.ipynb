{
 "cells": [
  {
   "cell_type": "code",
   "execution_count": 2,
   "id": "2bde5d50",
   "metadata": {},
   "outputs": [
    {
     "data": {
      "text/plain": [
       "<Response [200]>"
      ]
     },
     "execution_count": 2,
     "metadata": {},
     "output_type": "execute_result"
    }
   ],
   "source": [
    "import requests\n",
    "#connect to the API to get country's capital\n",
    "\n",
    "country = 'Italy'\n",
    "url = f\"https://restcountries.com/v3/name/{country}\"\n",
    "response  = requests.get(url)\n",
    "response"
   ]
  },
  {
   "cell_type": "code",
   "execution_count": 3,
   "id": "b50f0bca",
   "metadata": {},
   "outputs": [
    {
     "data": {
      "text/plain": [
       "[{'name': {'common': 'Italy',\n",
       "   'official': 'Italian Republic',\n",
       "   'nativeName': {'ita': {'official': 'Repubblica italiana',\n",
       "     'common': 'Italia'}}},\n",
       "  'tld': ['.it'],\n",
       "  'cca2': 'IT',\n",
       "  'ccn3': '380',\n",
       "  'cca3': 'ITA',\n",
       "  'cioc': 'ITA',\n",
       "  'independent': True,\n",
       "  'status': 'officially-assigned',\n",
       "  'unMember': True,\n",
       "  'currencies': {'EUR': {'name': 'Euro', 'symbol': '€'}},\n",
       "  'idd': {'root': '+3', 'suffixes': ['9']},\n",
       "  'capital': ['Rome'],\n",
       "  'altSpellings': ['IT', 'Italian Republic', 'Repubblica italiana'],\n",
       "  'region': 'Europe',\n",
       "  'subregion': 'Southern Europe',\n",
       "  'languages': {'ita': 'Italian'},\n",
       "  'translations': {'ara': {'official': 'الجمهورية الإيطالية',\n",
       "    'common': 'إيطاليا'},\n",
       "   'ces': {'official': 'Italská republika', 'common': 'Itálie'},\n",
       "   'cym': {'official': 'Italian Republic', 'common': 'Italy'},\n",
       "   'deu': {'official': 'Italienische Republik', 'common': 'Italien'},\n",
       "   'est': {'official': 'Itaalia Vabariik', 'common': 'Itaalia'},\n",
       "   'fin': {'official': 'Italian tasavalta', 'common': 'Italia'},\n",
       "   'fra': {'official': 'République italienne', 'common': 'Italie'},\n",
       "   'hrv': {'official': 'talijanska Republika', 'common': 'Italija'},\n",
       "   'hun': {'official': 'Olasz Köztársaság', 'common': 'Olaszország'},\n",
       "   'ita': {'official': 'Repubblica italiana', 'common': 'Italia'},\n",
       "   'jpn': {'official': 'イタリア共和国', 'common': 'イタリア'},\n",
       "   'kor': {'official': '이탈리아 공화국', 'common': '이탈리아'},\n",
       "   'nld': {'official': 'Italiaanse Republiek', 'common': 'Italië'},\n",
       "   'per': {'official': 'جمهوری ایتالیا', 'common': 'ایتالیا'},\n",
       "   'pol': {'official': 'Republika Włoska', 'common': 'Włochy'},\n",
       "   'por': {'official': 'República Italiana', 'common': 'Itália'},\n",
       "   'rus': {'official': 'итальянская Республика', 'common': 'Италия'},\n",
       "   'slk': {'official': 'Talianska republika', 'common': 'Taliansko'},\n",
       "   'spa': {'official': 'República Italiana', 'common': 'Italia'},\n",
       "   'swe': {'official': 'Republiken Italien', 'common': 'Italien'},\n",
       "   'urd': {'official': 'جمہوریہ اطالیہ', 'common': 'اطالیہ'},\n",
       "   'zho': {'official': '意大利共和国', 'common': '意大利'}},\n",
       "  'latlng': [42.83333333, 12.83333333],\n",
       "  'landlocked': False,\n",
       "  'borders': ['AUT', 'FRA', 'SMR', 'SVN', 'CHE', 'VAT'],\n",
       "  'area': 301336.0,\n",
       "  'demonyms': {'eng': {'f': 'Italian', 'm': 'Italian'},\n",
       "   'fra': {'f': 'Italienne', 'm': 'Italien'}},\n",
       "  'flag': '🇮🇹',\n",
       "  'maps': {'googleMaps': 'https://goo.gl/maps/8M1K27TDj7StTRTq8',\n",
       "   'openStreetMaps': 'https://www.openstreetmap.org/relation/365331'},\n",
       "  'population': 59554023,\n",
       "  'gini': {'2017': 35.9},\n",
       "  'fifa': 'ITA',\n",
       "  'car': {'signs': ['I'], 'side': 'right'},\n",
       "  'timezones': ['UTC+01:00'],\n",
       "  'continents': ['Europe'],\n",
       "  'flags': ['https://flagcdn.com/it.svg', 'https://flagcdn.com/w320/it.png']}]"
      ]
     },
     "execution_count": 3,
     "metadata": {},
     "output_type": "execute_result"
    }
   ],
   "source": [
    "#create new variable for the response from the API\n",
    "response = response.json()\n",
    "response"
   ]
  },
  {
   "cell_type": "code",
   "execution_count": 7,
   "id": "b66e3b59",
   "metadata": {},
   "outputs": [
    {
     "data": {
      "text/plain": [
       "'Rome'"
      ]
     },
     "execution_count": 7,
     "metadata": {},
     "output_type": "execute_result"
    }
   ],
   "source": [
    "country_info = response[0]\n",
    "\n",
    "#Parse response values\n",
    "capital = country_info[\"capital\"][0]\n",
    "area = country_info[\"area\"]\n",
    "subregion = country_info[\"subregion\"]\n",
    "capital"
   ]
  },
  {
   "cell_type": "code",
   "execution_count": 8,
   "id": "66f5e563",
   "metadata": {},
   "outputs": [
    {
     "data": {
      "text/plain": [
       "1"
      ]
     },
     "execution_count": 8,
     "metadata": {},
     "output_type": "execute_result"
    }
   ],
   "source": [
    "len(response)"
   ]
  },
  {
   "cell_type": "code",
   "execution_count": null,
   "id": "3b2e0dd9",
   "metadata": {},
   "outputs": [],
   "source": [
    "LISTT = []\n",
    "for i in range (o, len(response)):\n",
    "    LISTT.append(i)"
   ]
  }
 ],
 "metadata": {
  "kernelspec": {
   "display_name": "Python 3 (ipykernel)",
   "language": "python",
   "name": "python3"
  },
  "language_info": {
   "codemirror_mode": {
    "name": "ipython",
    "version": 3
   },
   "file_extension": ".py",
   "mimetype": "text/x-python",
   "name": "python",
   "nbconvert_exporter": "python",
   "pygments_lexer": "ipython3",
   "version": "3.9.12"
  }
 },
 "nbformat": 4,
 "nbformat_minor": 5
}
